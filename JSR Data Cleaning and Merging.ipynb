{
 "cells": [
  {
   "cell_type": "markdown",
   "id": "76bf336c",
   "metadata": {},
   "source": [
    "# Data Cleaning and Merging Part 1\n",
    "\n",
    "## This script contains the following points:\n",
    "\n",
    "1. Import libraries and customer dataframe.\n",
    "\n",
    "2. Data wrangling procedures for consistency, e.g. renaming columns.\n",
    "\n",
    "3. Fundamental data quality and consistency checks, e.g. checking for and addressing missing values.\n",
    "\n",
    "4. Combine customer data with the remaining prepared Instacart data.\n",
    "\n",
    "5. Export combined dataframe as pickle file."
   ]
  },
  {
   "cell_type": "markdown",
   "id": "55026c29",
   "metadata": {},
   "source": [
    "## 1. Import libraries and customer dataframe"
   ]
  },
  {
   "cell_type": "code",
   "execution_count": 1,
   "id": "41e814c2",
   "metadata": {},
   "outputs": [],
   "source": [
    "# Import libraries.\n",
    "\n",
    "import pandas as pd\n",
    "import numpy as np\n",
    "import os"
   ]
  },
  {
   "cell_type": "code",
   "execution_count": 2,
   "id": "f68a064f",
   "metadata": {},
   "outputs": [
    {
     "data": {
      "text/plain": [
       "'C:\\\\Users\\\\danie\\\\Desktop\\\\CareerFoundry\\\\Achievement 4-Python\\\\11-2023 Instacart Basket Analysis'"
      ]
     },
     "execution_count": 2,
     "metadata": {},
     "output_type": "execute_result"
    }
   ],
   "source": [
    "#Turn project folder path into a string.\n",
    "\n",
    "path = r'C:\\Users\\danie\\Desktop\\CareerFoundry\\Achievement 4-Python\\11-2023 Instacart Basket Analysis'\n",
    "path"
   ]
  },
  {
   "cell_type": "code",
   "execution_count": 3,
   "id": "31f61567",
   "metadata": {},
   "outputs": [],
   "source": [
    "# Import customer data set.\n",
    "\n",
    "df_customer = pd.read_csv(os.path.join(path, '02 Data', 'Original Data', 'customers.csv'), index_col = False)"
   ]
  },
  {
   "cell_type": "markdown",
   "id": "d3482dfa",
   "metadata": {},
   "source": [
    "## 2. Data wrangling procedures for consistency"
   ]
  },
  {
   "cell_type": "code",
   "execution_count": 4,
   "id": "739ecb0d",
   "metadata": {},
   "outputs": [
    {
     "name": "stdout",
     "output_type": "stream",
     "text": [
      "<class 'pandas.core.frame.DataFrame'>\n",
      "RangeIndex: 206209 entries, 0 to 206208\n",
      "Data columns (total 10 columns):\n",
      " #   Column        Non-Null Count   Dtype \n",
      "---  ------        --------------   ----- \n",
      " 0   user_id       206209 non-null  int64 \n",
      " 1   First Name    194950 non-null  object\n",
      " 2   Surnam        206209 non-null  object\n",
      " 3   Gender        206209 non-null  object\n",
      " 4   STATE         206209 non-null  object\n",
      " 5   Age           206209 non-null  int64 \n",
      " 6   date_joined   206209 non-null  object\n",
      " 7   n_dependants  206209 non-null  int64 \n",
      " 8   fam_status    206209 non-null  object\n",
      " 9   income        206209 non-null  int64 \n",
      "dtypes: int64(4), object(6)\n",
      "memory usage: 15.7+ MB\n"
     ]
    }
   ],
   "source": [
    "# Explore df_customer basic information.\n",
    "\n",
    "df_customer.info()"
   ]
  },
  {
   "cell_type": "code",
   "execution_count": 5,
   "id": "c0f7aadb",
   "metadata": {},
   "outputs": [
    {
     "data": {
      "text/html": [
       "<div>\n",
       "<style scoped>\n",
       "    .dataframe tbody tr th:only-of-type {\n",
       "        vertical-align: middle;\n",
       "    }\n",
       "\n",
       "    .dataframe tbody tr th {\n",
       "        vertical-align: top;\n",
       "    }\n",
       "\n",
       "    .dataframe thead th {\n",
       "        text-align: right;\n",
       "    }\n",
       "</style>\n",
       "<table border=\"1\" class=\"dataframe\">\n",
       "  <thead>\n",
       "    <tr style=\"text-align: right;\">\n",
       "      <th></th>\n",
       "      <th>user_id</th>\n",
       "      <th>First Name</th>\n",
       "      <th>Surnam</th>\n",
       "      <th>Gender</th>\n",
       "      <th>STATE</th>\n",
       "      <th>Age</th>\n",
       "      <th>date_joined</th>\n",
       "      <th>n_dependants</th>\n",
       "      <th>fam_status</th>\n",
       "      <th>income</th>\n",
       "    </tr>\n",
       "  </thead>\n",
       "  <tbody>\n",
       "    <tr>\n",
       "      <th>0</th>\n",
       "      <td>26711</td>\n",
       "      <td>Deborah</td>\n",
       "      <td>Esquivel</td>\n",
       "      <td>Female</td>\n",
       "      <td>Missouri</td>\n",
       "      <td>48</td>\n",
       "      <td>1/1/2017</td>\n",
       "      <td>3</td>\n",
       "      <td>married</td>\n",
       "      <td>165665</td>\n",
       "    </tr>\n",
       "    <tr>\n",
       "      <th>1</th>\n",
       "      <td>33890</td>\n",
       "      <td>Patricia</td>\n",
       "      <td>Hart</td>\n",
       "      <td>Female</td>\n",
       "      <td>New Mexico</td>\n",
       "      <td>36</td>\n",
       "      <td>1/1/2017</td>\n",
       "      <td>0</td>\n",
       "      <td>single</td>\n",
       "      <td>59285</td>\n",
       "    </tr>\n",
       "    <tr>\n",
       "      <th>2</th>\n",
       "      <td>65803</td>\n",
       "      <td>Kenneth</td>\n",
       "      <td>Farley</td>\n",
       "      <td>Male</td>\n",
       "      <td>Idaho</td>\n",
       "      <td>35</td>\n",
       "      <td>1/1/2017</td>\n",
       "      <td>2</td>\n",
       "      <td>married</td>\n",
       "      <td>99568</td>\n",
       "    </tr>\n",
       "    <tr>\n",
       "      <th>3</th>\n",
       "      <td>125935</td>\n",
       "      <td>Michelle</td>\n",
       "      <td>Hicks</td>\n",
       "      <td>Female</td>\n",
       "      <td>Iowa</td>\n",
       "      <td>40</td>\n",
       "      <td>1/1/2017</td>\n",
       "      <td>0</td>\n",
       "      <td>single</td>\n",
       "      <td>42049</td>\n",
       "    </tr>\n",
       "    <tr>\n",
       "      <th>4</th>\n",
       "      <td>130797</td>\n",
       "      <td>Ann</td>\n",
       "      <td>Gilmore</td>\n",
       "      <td>Female</td>\n",
       "      <td>Maryland</td>\n",
       "      <td>26</td>\n",
       "      <td>1/1/2017</td>\n",
       "      <td>1</td>\n",
       "      <td>married</td>\n",
       "      <td>40374</td>\n",
       "    </tr>\n",
       "  </tbody>\n",
       "</table>\n",
       "</div>"
      ],
      "text/plain": [
       "   user_id First Name    Surnam  Gender       STATE  Age date_joined  \\\n",
       "0    26711    Deborah  Esquivel  Female    Missouri   48    1/1/2017   \n",
       "1    33890   Patricia      Hart  Female  New Mexico   36    1/1/2017   \n",
       "2    65803    Kenneth    Farley    Male       Idaho   35    1/1/2017   \n",
       "3   125935   Michelle     Hicks  Female        Iowa   40    1/1/2017   \n",
       "4   130797        Ann   Gilmore  Female    Maryland   26    1/1/2017   \n",
       "\n",
       "   n_dependants fam_status  income  \n",
       "0             3    married  165665  \n",
       "1             0     single   59285  \n",
       "2             2    married   99568  \n",
       "3             0     single   42049  \n",
       "4             1    married   40374  "
      ]
     },
     "execution_count": 5,
     "metadata": {},
     "output_type": "execute_result"
    }
   ],
   "source": [
    "# Examine df_customer column names.\n",
    "\n",
    "df_customer.head()"
   ]
  },
  {
   "cell_type": "code",
   "execution_count": 6,
   "id": "15618f8f",
   "metadata": {},
   "outputs": [],
   "source": [
    "# Rename \"Surnam\" variable as \"last_name\" and \"First Name,\" \"Gender,\" \"STATE,\" and \"Age\" columns to match capitalization formatting in remaining columns.\n",
    "\n",
    "df_customer.rename(columns = {'Surnam':'last_name','First Name':'first_name', 'Gender':'gender', 'STATE':'state', 'Age':'age'}, inplace = True)"
   ]
  },
  {
   "cell_type": "code",
   "execution_count": 7,
   "id": "47f9e5aa",
   "metadata": {},
   "outputs": [
    {
     "data": {
      "text/html": [
       "<div>\n",
       "<style scoped>\n",
       "    .dataframe tbody tr th:only-of-type {\n",
       "        vertical-align: middle;\n",
       "    }\n",
       "\n",
       "    .dataframe tbody tr th {\n",
       "        vertical-align: top;\n",
       "    }\n",
       "\n",
       "    .dataframe thead th {\n",
       "        text-align: right;\n",
       "    }\n",
       "</style>\n",
       "<table border=\"1\" class=\"dataframe\">\n",
       "  <thead>\n",
       "    <tr style=\"text-align: right;\">\n",
       "      <th></th>\n",
       "      <th>user_id</th>\n",
       "      <th>first_name</th>\n",
       "      <th>last_name</th>\n",
       "      <th>gender</th>\n",
       "      <th>state</th>\n",
       "      <th>age</th>\n",
       "      <th>date_joined</th>\n",
       "      <th>n_dependants</th>\n",
       "      <th>fam_status</th>\n",
       "      <th>income</th>\n",
       "    </tr>\n",
       "  </thead>\n",
       "  <tbody>\n",
       "    <tr>\n",
       "      <th>0</th>\n",
       "      <td>26711</td>\n",
       "      <td>Deborah</td>\n",
       "      <td>Esquivel</td>\n",
       "      <td>Female</td>\n",
       "      <td>Missouri</td>\n",
       "      <td>48</td>\n",
       "      <td>1/1/2017</td>\n",
       "      <td>3</td>\n",
       "      <td>married</td>\n",
       "      <td>165665</td>\n",
       "    </tr>\n",
       "    <tr>\n",
       "      <th>1</th>\n",
       "      <td>33890</td>\n",
       "      <td>Patricia</td>\n",
       "      <td>Hart</td>\n",
       "      <td>Female</td>\n",
       "      <td>New Mexico</td>\n",
       "      <td>36</td>\n",
       "      <td>1/1/2017</td>\n",
       "      <td>0</td>\n",
       "      <td>single</td>\n",
       "      <td>59285</td>\n",
       "    </tr>\n",
       "    <tr>\n",
       "      <th>2</th>\n",
       "      <td>65803</td>\n",
       "      <td>Kenneth</td>\n",
       "      <td>Farley</td>\n",
       "      <td>Male</td>\n",
       "      <td>Idaho</td>\n",
       "      <td>35</td>\n",
       "      <td>1/1/2017</td>\n",
       "      <td>2</td>\n",
       "      <td>married</td>\n",
       "      <td>99568</td>\n",
       "    </tr>\n",
       "    <tr>\n",
       "      <th>3</th>\n",
       "      <td>125935</td>\n",
       "      <td>Michelle</td>\n",
       "      <td>Hicks</td>\n",
       "      <td>Female</td>\n",
       "      <td>Iowa</td>\n",
       "      <td>40</td>\n",
       "      <td>1/1/2017</td>\n",
       "      <td>0</td>\n",
       "      <td>single</td>\n",
       "      <td>42049</td>\n",
       "    </tr>\n",
       "    <tr>\n",
       "      <th>4</th>\n",
       "      <td>130797</td>\n",
       "      <td>Ann</td>\n",
       "      <td>Gilmore</td>\n",
       "      <td>Female</td>\n",
       "      <td>Maryland</td>\n",
       "      <td>26</td>\n",
       "      <td>1/1/2017</td>\n",
       "      <td>1</td>\n",
       "      <td>married</td>\n",
       "      <td>40374</td>\n",
       "    </tr>\n",
       "  </tbody>\n",
       "</table>\n",
       "</div>"
      ],
      "text/plain": [
       "   user_id first_name last_name  gender       state  age date_joined  \\\n",
       "0    26711    Deborah  Esquivel  Female    Missouri   48    1/1/2017   \n",
       "1    33890   Patricia      Hart  Female  New Mexico   36    1/1/2017   \n",
       "2    65803    Kenneth    Farley    Male       Idaho   35    1/1/2017   \n",
       "3   125935   Michelle     Hicks  Female        Iowa   40    1/1/2017   \n",
       "4   130797        Ann   Gilmore  Female    Maryland   26    1/1/2017   \n",
       "\n",
       "   n_dependants fam_status  income  \n",
       "0             3    married  165665  \n",
       "1             0     single   59285  \n",
       "2             2    married   99568  \n",
       "3             0     single   42049  \n",
       "4             1    married   40374  "
      ]
     },
     "execution_count": 7,
     "metadata": {},
     "output_type": "execute_result"
    }
   ],
   "source": [
    "# Check column name changes.\n",
    "\n",
    "df_customer.head()"
   ]
  },
  {
   "cell_type": "code",
   "execution_count": 8,
   "id": "9cd99327",
   "metadata": {},
   "outputs": [],
   "source": [
    "# Change user_id data type from int64 to string.\n",
    "\n",
    "df_customer['user_id'] = df_customer['user_id'].astype('str')"
   ]
  },
  {
   "cell_type": "code",
   "execution_count": 9,
   "id": "f952e3ac",
   "metadata": {},
   "outputs": [
    {
     "data": {
      "text/plain": [
       "dtype('O')"
      ]
     },
     "execution_count": 9,
     "metadata": {},
     "output_type": "execute_result"
    }
   ],
   "source": [
    "# Check user_id data type change.\n",
    "\n",
    "df_customer['user_id'].dtype"
   ]
  },
  {
   "cell_type": "markdown",
   "id": "0f44f054",
   "metadata": {},
   "source": [
    "## 3. Fundamental data quality and consistency checks"
   ]
  },
  {
   "cell_type": "code",
   "execution_count": 10,
   "id": "0b57f336",
   "metadata": {},
   "outputs": [
    {
     "name": "stdout",
     "output_type": "stream",
     "text": [
      "first_name\n"
     ]
    }
   ],
   "source": [
    "# Search df_customer for mixed-type columns.\n",
    "\n",
    "for col in df_customer.columns.tolist():\n",
    "  weird = (df_customer[[col]].map(type) != df_customer[[col]].iloc[0].apply(type)).any(axis = 1)\n",
    "  if len (df_customer[weird]) > 0:\n",
    "    print (col)"
   ]
  },
  {
   "cell_type": "code",
   "execution_count": 12,
   "id": "b2ed8d5c",
   "metadata": {},
   "outputs": [],
   "source": [
    "# Change first_name data type from mixed-type to string.\n",
    "\n",
    "df_customer['first_name'] = df_customer['first_name'].astype('str')"
   ]
  },
  {
   "cell_type": "code",
   "execution_count": 13,
   "id": "a52cca83",
   "metadata": {},
   "outputs": [
    {
     "data": {
      "text/plain": [
       "dtype('O')"
      ]
     },
     "execution_count": 13,
     "metadata": {},
     "output_type": "execute_result"
    }
   ],
   "source": [
    "# Check first_name data type change.\n",
    "\n",
    "df_customer['first_name'].dtype"
   ]
  },
  {
   "cell_type": "code",
   "execution_count": 15,
   "id": "7b07bec4",
   "metadata": {},
   "outputs": [
    {
     "data": {
      "text/plain": [
       "user_id         0\n",
       "first_name      0\n",
       "last_name       0\n",
       "gender          0\n",
       "state           0\n",
       "age             0\n",
       "date_joined     0\n",
       "n_dependants    0\n",
       "fam_status      0\n",
       "income          0\n",
       "dtype: int64"
      ]
     },
     "execution_count": 15,
     "metadata": {},
     "output_type": "execute_result"
    }
   ],
   "source": [
    "# Search for missing values.\n",
    "\n",
    "df_customer.isnull().sum()"
   ]
  },
  {
   "cell_type": "code",
   "execution_count": 16,
   "id": "11d5c220",
   "metadata": {},
   "outputs": [],
   "source": [
    "# Search for duplicates.\n",
    "\n",
    "df_dups = df_customer.duplicated()"
   ]
  },
  {
   "cell_type": "code",
   "execution_count": 17,
   "id": "e799923a",
   "metadata": {},
   "outputs": [
    {
     "data": {
      "text/plain": [
       "0         False\n",
       "1         False\n",
       "2         False\n",
       "3         False\n",
       "4         False\n",
       "          ...  \n",
       "206204    False\n",
       "206205    False\n",
       "206206    False\n",
       "206207    False\n",
       "206208    False\n",
       "Length: 206209, dtype: bool"
      ]
     },
     "execution_count": 17,
     "metadata": {},
     "output_type": "execute_result"
    }
   ],
   "source": [
    "df_dups"
   ]
  },
  {
   "cell_type": "code",
   "execution_count": 29,
   "id": "3debbf63",
   "metadata": {},
   "outputs": [
    {
     "data": {
      "text/html": [
       "<div>\n",
       "<style scoped>\n",
       "    .dataframe tbody tr th:only-of-type {\n",
       "        vertical-align: middle;\n",
       "    }\n",
       "\n",
       "    .dataframe tbody tr th {\n",
       "        vertical-align: top;\n",
       "    }\n",
       "\n",
       "    .dataframe thead th {\n",
       "        text-align: right;\n",
       "    }\n",
       "</style>\n",
       "<table border=\"1\" class=\"dataframe\">\n",
       "  <thead>\n",
       "    <tr style=\"text-align: right;\">\n",
       "      <th></th>\n",
       "      <th>age</th>\n",
       "      <th>n_dependants</th>\n",
       "      <th>income</th>\n",
       "    </tr>\n",
       "  </thead>\n",
       "  <tbody>\n",
       "    <tr>\n",
       "      <th>count</th>\n",
       "      <td>206209.000000</td>\n",
       "      <td>206209.000000</td>\n",
       "      <td>206209.000000</td>\n",
       "    </tr>\n",
       "    <tr>\n",
       "      <th>mean</th>\n",
       "      <td>49.501646</td>\n",
       "      <td>1.499823</td>\n",
       "      <td>94632.852548</td>\n",
       "    </tr>\n",
       "    <tr>\n",
       "      <th>std</th>\n",
       "      <td>18.480962</td>\n",
       "      <td>1.118433</td>\n",
       "      <td>42473.786988</td>\n",
       "    </tr>\n",
       "    <tr>\n",
       "      <th>min</th>\n",
       "      <td>18.000000</td>\n",
       "      <td>0.000000</td>\n",
       "      <td>25903.000000</td>\n",
       "    </tr>\n",
       "    <tr>\n",
       "      <th>25%</th>\n",
       "      <td>33.000000</td>\n",
       "      <td>0.000000</td>\n",
       "      <td>59874.000000</td>\n",
       "    </tr>\n",
       "    <tr>\n",
       "      <th>50%</th>\n",
       "      <td>49.000000</td>\n",
       "      <td>1.000000</td>\n",
       "      <td>93547.000000</td>\n",
       "    </tr>\n",
       "    <tr>\n",
       "      <th>75%</th>\n",
       "      <td>66.000000</td>\n",
       "      <td>3.000000</td>\n",
       "      <td>124244.000000</td>\n",
       "    </tr>\n",
       "    <tr>\n",
       "      <th>max</th>\n",
       "      <td>81.000000</td>\n",
       "      <td>3.000000</td>\n",
       "      <td>593901.000000</td>\n",
       "    </tr>\n",
       "  </tbody>\n",
       "</table>\n",
       "</div>"
      ],
      "text/plain": [
       "                 age   n_dependants         income\n",
       "count  206209.000000  206209.000000  206209.000000\n",
       "mean       49.501646       1.499823   94632.852548\n",
       "std        18.480962       1.118433   42473.786988\n",
       "min        18.000000       0.000000   25903.000000\n",
       "25%        33.000000       0.000000   59874.000000\n",
       "50%        49.000000       1.000000   93547.000000\n",
       "75%        66.000000       3.000000  124244.000000\n",
       "max        81.000000       3.000000  593901.000000"
      ]
     },
     "execution_count": 29,
     "metadata": {},
     "output_type": "execute_result"
    }
   ],
   "source": [
    "# Check descriptive statistics on quantitative variables (age, n_dependants, income).\n",
    "\n",
    "df_customer.describe()"
   ]
  },
  {
   "cell_type": "code",
   "execution_count": 30,
   "id": "d2bc3d0a",
   "metadata": {},
   "outputs": [
    {
     "data": {
      "text/plain": [
       "gender\n",
       "Male      104067\n",
       "Female    102142\n",
       "Name: count, dtype: int64"
      ]
     },
     "execution_count": 30,
     "metadata": {},
     "output_type": "execute_result"
    }
   ],
   "source": [
    "# Check value counts for gender variable.\n",
    "\n",
    "df_customer['gender'].value_counts(dropna = False)"
   ]
  },
  {
   "cell_type": "code",
   "execution_count": 33,
   "id": "8ac7111b",
   "metadata": {},
   "outputs": [
    {
     "data": {
      "text/plain": [
       "51"
      ]
     },
     "execution_count": 33,
     "metadata": {},
     "output_type": "execute_result"
    }
   ],
   "source": [
    "# Check number of unique values for state variable.\n",
    "\n",
    "df_customer['state'].nunique()"
   ]
  },
  {
   "cell_type": "code",
   "execution_count": 31,
   "id": "3214fb0f",
   "metadata": {},
   "outputs": [
    {
     "data": {
      "text/plain": [
       "state\n",
       "Florida                 4044\n",
       "Colorado                4044\n",
       "Illinois                4044\n",
       "Alabama                 4044\n",
       "District of Columbia    4044\n",
       "Hawaii                  4044\n",
       "Arizona                 4044\n",
       "Connecticut             4044\n",
       "California              4044\n",
       "Indiana                 4044\n",
       "Arkansas                4044\n",
       "Alaska                  4044\n",
       "Delaware                4044\n",
       "Iowa                    4044\n",
       "Idaho                   4044\n",
       "Georgia                 4044\n",
       "Wyoming                 4043\n",
       "Mississippi             4043\n",
       "Oklahoma                4043\n",
       "Utah                    4043\n",
       "New Hampshire           4043\n",
       "Kentucky                4043\n",
       "Maryland                4043\n",
       "Rhode Island            4043\n",
       "Massachusetts           4043\n",
       "Michigan                4043\n",
       "New Jersey              4043\n",
       "Kansas                  4043\n",
       "South Dakota            4043\n",
       "Minnesota               4043\n",
       "Tennessee               4043\n",
       "New York                4043\n",
       "Washington              4043\n",
       "Louisiana               4043\n",
       "Montana                 4043\n",
       "North Dakota            4043\n",
       "Wisconsin               4043\n",
       "Nebraska                4043\n",
       "Vermont                 4043\n",
       "Nevada                  4043\n",
       "Maine                   4043\n",
       "North Carolina          4043\n",
       "West Virginia           4043\n",
       "Virginia                4043\n",
       "Oregon                  4043\n",
       "New Mexico              4043\n",
       "Texas                   4043\n",
       "Pennsylvania            4043\n",
       "Ohio                    4043\n",
       "South Carolina          4043\n",
       "Missouri                4043\n",
       "Name: count, dtype: int64"
      ]
     },
     "execution_count": 31,
     "metadata": {},
     "output_type": "execute_result"
    }
   ],
   "source": [
    "# Check value counts for state variable.\n",
    "\n",
    "df_customer['state'].value_counts(dropna = False)"
   ]
  },
  {
   "cell_type": "markdown",
   "id": "8d17c34c",
   "metadata": {},
   "source": [
    "District of Columbia is included in the value counts for state variable, which explains the 51 unique values in the state column despite 50 US states."
   ]
  },
  {
   "cell_type": "code",
   "execution_count": 34,
   "id": "6c735dbc",
   "metadata": {},
   "outputs": [
    {
     "data": {
      "text/plain": [
       "'1/1/2017'"
      ]
     },
     "execution_count": 34,
     "metadata": {},
     "output_type": "execute_result"
    }
   ],
   "source": [
    "# Check for minimum date_joined.\n",
    "\n",
    "df_customer['date_joined'].min()"
   ]
  },
  {
   "cell_type": "code",
   "execution_count": 35,
   "id": "492d06e0",
   "metadata": {},
   "outputs": [
    {
     "data": {
      "text/plain": [
       "'9/9/2019'"
      ]
     },
     "execution_count": 35,
     "metadata": {},
     "output_type": "execute_result"
    }
   ],
   "source": [
    "# Check for maximum date_joined.\n",
    "\n",
    "df_customer['date_joined'].max()"
   ]
  },
  {
   "cell_type": "code",
   "execution_count": 36,
   "id": "ac393019",
   "metadata": {},
   "outputs": [
    {
     "data": {
      "text/plain": [
       "n_dependants\n",
       "0    51602\n",
       "3    51594\n",
       "1    51531\n",
       "2    51482\n",
       "Name: count, dtype: int64"
      ]
     },
     "execution_count": 36,
     "metadata": {},
     "output_type": "execute_result"
    }
   ],
   "source": [
    "# Check value counts for n_dependants.\n",
    "\n",
    "df_customer['n_dependants'].value_counts(dropna = False)"
   ]
  },
  {
   "cell_type": "code",
   "execution_count": 37,
   "id": "42564c8e",
   "metadata": {},
   "outputs": [
    {
     "data": {
      "text/plain": [
       "fam_status\n",
       "married                             144906\n",
       "single                               33962\n",
       "divorced/widowed                     17640\n",
       "living with parents and siblings      9701\n",
       "Name: count, dtype: int64"
      ]
     },
     "execution_count": 37,
     "metadata": {},
     "output_type": "execute_result"
    }
   ],
   "source": [
    "# Check value counts for fam_status variable.\n",
    "\n",
    "df_customer['fam_status'].value_counts(dropna = False)"
   ]
  },
  {
   "cell_type": "code",
   "execution_count": 40,
   "id": "88da979b",
   "metadata": {},
   "outputs": [
    {
     "data": {
      "text/plain": [
       "93547.0"
      ]
     },
     "execution_count": 40,
     "metadata": {},
     "output_type": "execute_result"
    }
   ],
   "source": [
    "# Print median for income variable.\n",
    "\n",
    "df_customer['income'].median()"
   ]
  },
  {
   "cell_type": "code",
   "execution_count": 42,
   "id": "5eb47ca7",
   "metadata": {},
   "outputs": [
    {
     "data": {
      "text/plain": [
       "25903"
      ]
     },
     "execution_count": 42,
     "metadata": {},
     "output_type": "execute_result"
    }
   ],
   "source": [
    "# Print minimum for income variable.\n",
    "\n",
    "df_customer['income'].min()"
   ]
  },
  {
   "cell_type": "code",
   "execution_count": 43,
   "id": "ba888915",
   "metadata": {},
   "outputs": [
    {
     "data": {
      "text/plain": [
       "593901"
      ]
     },
     "execution_count": 43,
     "metadata": {},
     "output_type": "execute_result"
    }
   ],
   "source": [
    "# Print maximum for income variable.\n",
    "\n",
    "df_customer['income'].max()"
   ]
  },
  {
   "cell_type": "code",
   "execution_count": 44,
   "id": "2527ff52",
   "metadata": {},
   "outputs": [
    {
     "data": {
      "text/plain": [
       "income\n",
       "57192     10\n",
       "95891     10\n",
       "95710     10\n",
       "97532      9\n",
       "98675      9\n",
       "          ..\n",
       "73141      1\n",
       "71524      1\n",
       "74408      1\n",
       "44780      1\n",
       "148828     1\n",
       "Name: count, Length: 108012, dtype: int64"
      ]
     },
     "execution_count": 44,
     "metadata": {},
     "output_type": "execute_result"
    }
   ],
   "source": [
    "# Check value counts for income variable.\n",
    "\n",
    "df_customer['income'].value_counts(dropna = False)"
   ]
  },
  {
   "cell_type": "code",
   "execution_count": 45,
   "id": "ded96572",
   "metadata": {},
   "outputs": [],
   "source": [
    "# Check for validity of incomes > 300000.\n",
    "\n",
    "df_check_income = df_customer[df_customer['income'] > 300000]"
   ]
  },
  {
   "cell_type": "code",
   "execution_count": 46,
   "id": "4a971dc0",
   "metadata": {},
   "outputs": [
    {
     "data": {
      "text/html": [
       "<div>\n",
       "<style scoped>\n",
       "    .dataframe tbody tr th:only-of-type {\n",
       "        vertical-align: middle;\n",
       "    }\n",
       "\n",
       "    .dataframe tbody tr th {\n",
       "        vertical-align: top;\n",
       "    }\n",
       "\n",
       "    .dataframe thead th {\n",
       "        text-align: right;\n",
       "    }\n",
       "</style>\n",
       "<table border=\"1\" class=\"dataframe\">\n",
       "  <thead>\n",
       "    <tr style=\"text-align: right;\">\n",
       "      <th></th>\n",
       "      <th>user_id</th>\n",
       "      <th>first_name</th>\n",
       "      <th>last_name</th>\n",
       "      <th>gender</th>\n",
       "      <th>state</th>\n",
       "      <th>age</th>\n",
       "      <th>date_joined</th>\n",
       "      <th>n_dependants</th>\n",
       "      <th>fam_status</th>\n",
       "      <th>income</th>\n",
       "    </tr>\n",
       "  </thead>\n",
       "  <tbody>\n",
       "    <tr>\n",
       "      <th>979</th>\n",
       "      <td>200930</td>\n",
       "      <td>Charles</td>\n",
       "      <td>Nichols</td>\n",
       "      <td>Male</td>\n",
       "      <td>South Carolina</td>\n",
       "      <td>60</td>\n",
       "      <td>1/6/2017</td>\n",
       "      <td>1</td>\n",
       "      <td>married</td>\n",
       "      <td>300913</td>\n",
       "    </tr>\n",
       "    <tr>\n",
       "      <th>86870</th>\n",
       "      <td>71498</td>\n",
       "      <td>Gloria</td>\n",
       "      <td>Stafford</td>\n",
       "      <td>Female</td>\n",
       "      <td>Virginia</td>\n",
       "      <td>69</td>\n",
       "      <td>5/14/2018</td>\n",
       "      <td>3</td>\n",
       "      <td>married</td>\n",
       "      <td>302234</td>\n",
       "    </tr>\n",
       "    <tr>\n",
       "      <th>138764</th>\n",
       "      <td>151552</td>\n",
       "      <td>Mark</td>\n",
       "      <td>Neal</td>\n",
       "      <td>Male</td>\n",
       "      <td>Oklahoma</td>\n",
       "      <td>71</td>\n",
       "      <td>3/11/2019</td>\n",
       "      <td>1</td>\n",
       "      <td>married</td>\n",
       "      <td>302363</td>\n",
       "    </tr>\n",
       "    <tr>\n",
       "      <th>47787</th>\n",
       "      <td>205650</td>\n",
       "      <td>Jeremy</td>\n",
       "      <td>Vang</td>\n",
       "      <td>Male</td>\n",
       "      <td>Kentucky</td>\n",
       "      <td>62</td>\n",
       "      <td>10/2/2017</td>\n",
       "      <td>0</td>\n",
       "      <td>divorced/widowed</td>\n",
       "      <td>302526</td>\n",
       "    </tr>\n",
       "    <tr>\n",
       "      <th>58395</th>\n",
       "      <td>77541</td>\n",
       "      <td>Kimberly</td>\n",
       "      <td>Anderson</td>\n",
       "      <td>Female</td>\n",
       "      <td>Montana</td>\n",
       "      <td>25</td>\n",
       "      <td>12/3/2017</td>\n",
       "      <td>2</td>\n",
       "      <td>married</td>\n",
       "      <td>302561</td>\n",
       "    </tr>\n",
       "    <tr>\n",
       "      <th>...</th>\n",
       "      <td>...</td>\n",
       "      <td>...</td>\n",
       "      <td>...</td>\n",
       "      <td>...</td>\n",
       "      <td>...</td>\n",
       "      <td>...</td>\n",
       "      <td>...</td>\n",
       "      <td>...</td>\n",
       "      <td>...</td>\n",
       "      <td>...</td>\n",
       "    </tr>\n",
       "    <tr>\n",
       "      <th>167037</th>\n",
       "      <td>189861</td>\n",
       "      <td>Pamela</td>\n",
       "      <td>Jordan</td>\n",
       "      <td>Female</td>\n",
       "      <td>Pennsylvania</td>\n",
       "      <td>47</td>\n",
       "      <td>8/21/2019</td>\n",
       "      <td>0</td>\n",
       "      <td>single</td>\n",
       "      <td>584097</td>\n",
       "    </tr>\n",
       "    <tr>\n",
       "      <th>111950</th>\n",
       "      <td>187680</td>\n",
       "      <td>Catherine</td>\n",
       "      <td>Church</td>\n",
       "      <td>Female</td>\n",
       "      <td>Wyoming</td>\n",
       "      <td>43</td>\n",
       "      <td>10/7/2018</td>\n",
       "      <td>2</td>\n",
       "      <td>married</td>\n",
       "      <td>590790</td>\n",
       "    </tr>\n",
       "    <tr>\n",
       "      <th>81583</th>\n",
       "      <td>103702</td>\n",
       "      <td>Kathryn</td>\n",
       "      <td>Mclaughlin</td>\n",
       "      <td>Female</td>\n",
       "      <td>Louisiana</td>\n",
       "      <td>55</td>\n",
       "      <td>4/14/2018</td>\n",
       "      <td>3</td>\n",
       "      <td>married</td>\n",
       "      <td>591089</td>\n",
       "    </tr>\n",
       "    <tr>\n",
       "      <th>202655</th>\n",
       "      <td>98580</td>\n",
       "      <td>nan</td>\n",
       "      <td>Patterson</td>\n",
       "      <td>Male</td>\n",
       "      <td>Washington</td>\n",
       "      <td>43</td>\n",
       "      <td>3/12/2020</td>\n",
       "      <td>2</td>\n",
       "      <td>married</td>\n",
       "      <td>592409</td>\n",
       "    </tr>\n",
       "    <tr>\n",
       "      <th>21726</th>\n",
       "      <td>58596</td>\n",
       "      <td>Thomas</td>\n",
       "      <td>Cohen</td>\n",
       "      <td>Male</td>\n",
       "      <td>Washington</td>\n",
       "      <td>75</td>\n",
       "      <td>5/6/2017</td>\n",
       "      <td>2</td>\n",
       "      <td>married</td>\n",
       "      <td>593901</td>\n",
       "    </tr>\n",
       "  </tbody>\n",
       "</table>\n",
       "<p>382 rows × 10 columns</p>\n",
       "</div>"
      ],
      "text/plain": [
       "       user_id first_name   last_name  gender           state  age  \\\n",
       "979     200930    Charles     Nichols    Male  South Carolina   60   \n",
       "86870    71498     Gloria    Stafford  Female        Virginia   69   \n",
       "138764  151552       Mark        Neal    Male        Oklahoma   71   \n",
       "47787   205650     Jeremy        Vang    Male        Kentucky   62   \n",
       "58395    77541   Kimberly    Anderson  Female         Montana   25   \n",
       "...        ...        ...         ...     ...             ...  ...   \n",
       "167037  189861     Pamela      Jordan  Female    Pennsylvania   47   \n",
       "111950  187680  Catherine      Church  Female         Wyoming   43   \n",
       "81583   103702    Kathryn  Mclaughlin  Female       Louisiana   55   \n",
       "202655   98580        nan   Patterson    Male      Washington   43   \n",
       "21726    58596     Thomas       Cohen    Male      Washington   75   \n",
       "\n",
       "       date_joined  n_dependants        fam_status  income  \n",
       "979       1/6/2017             1           married  300913  \n",
       "86870    5/14/2018             3           married  302234  \n",
       "138764   3/11/2019             1           married  302363  \n",
       "47787    10/2/2017             0  divorced/widowed  302526  \n",
       "58395    12/3/2017             2           married  302561  \n",
       "...            ...           ...               ...     ...  \n",
       "167037   8/21/2019             0            single  584097  \n",
       "111950   10/7/2018             2           married  590790  \n",
       "81583    4/14/2018             3           married  591089  \n",
       "202655   3/12/2020             2           married  592409  \n",
       "21726     5/6/2017             2           married  593901  \n",
       "\n",
       "[382 rows x 10 columns]"
      ]
     },
     "execution_count": 46,
     "metadata": {},
     "output_type": "execute_result"
    }
   ],
   "source": [
    "df_check_income.sort_values(by='income', ascending=True, )"
   ]
  },
  {
   "cell_type": "markdown",
   "id": "402adb09",
   "metadata": {},
   "source": [
    "It appears that some people make oodles of money and these entries are valid. No outliers were found."
   ]
  },
  {
   "cell_type": "markdown",
   "id": "77c852f0",
   "metadata": {},
   "source": [
    "## 4. Combine customer data with the remaining prepared Instacart data"
   ]
  },
  {
   "cell_type": "code",
   "execution_count": 18,
   "id": "05da644e",
   "metadata": {},
   "outputs": [],
   "source": [
    "# Import remaining prepared Instacart data.\n",
    "\n",
    "ords_prods_merge = pd.read_pickle(os.path.join(path, '02 Data', 'Prepared Data', 'orders_products_merged_agg.pkl'))"
   ]
  },
  {
   "cell_type": "code",
   "execution_count": 52,
   "id": "8398b7ea",
   "metadata": {
    "scrolled": true
   },
   "outputs": [
    {
     "name": "stdout",
     "output_type": "stream",
     "text": [
      "<class 'pandas.core.frame.DataFrame'>\n",
      "Index: 32404859 entries, 0 to 32404858\n",
      "Data columns (total 24 columns):\n",
      " #   Column                         Dtype   \n",
      "---  ------                         -----   \n",
      " 0   order_id                       int64   \n",
      " 1   user_id                        object  \n",
      " 2   order_number                   int64   \n",
      " 3   orders_day_of_week             int64   \n",
      " 4   order_hour_of_day              int64   \n",
      " 5   days_since_prior_order         float64 \n",
      " 6   product_id                     int64   \n",
      " 7   add_to_cart_order              int64   \n",
      " 8   reordered                      int64   \n",
      " 9   _merge                         category\n",
      " 10  product_name                   object  \n",
      " 11  aisle_id                       int64   \n",
      " 12  department_id                  int64   \n",
      " 13  prices                         float64 \n",
      " 14  price_range_loc                object  \n",
      " 15  busiest_day                    object  \n",
      " 16  busiest_days                   object  \n",
      " 17  busiest_period_of_day          object  \n",
      " 18  max_order                      int64   \n",
      " 19  loyalty_flag                   object  \n",
      " 20  mean_prices                    float64 \n",
      " 21  spending_flag                  object  \n",
      " 22  median_days_since_prior_order  float64 \n",
      " 23  order_frequency_flag           object  \n",
      "dtypes: category(1), float64(4), int64(10), object(9)\n",
      "memory usage: 5.8+ GB\n"
     ]
    }
   ],
   "source": [
    "# Check ords_prods_merge basic information and column names.\n",
    "\n",
    "ords_prods_merge.info()"
   ]
  },
  {
   "cell_type": "code",
   "execution_count": 53,
   "id": "203c832d",
   "metadata": {},
   "outputs": [],
   "source": [
    "# Drop the _merge column in ords_prods_merge to prevent future conflict with _merge category.\n",
    "\n",
    "ords_prods_merge.drop(columns=['_merge'], inplace=True)"
   ]
  },
  {
   "cell_type": "code",
   "execution_count": 54,
   "id": "7df05cad",
   "metadata": {},
   "outputs": [
    {
     "name": "stdout",
     "output_type": "stream",
     "text": [
      "<class 'pandas.core.frame.DataFrame'>\n",
      "Index: 32404859 entries, 0 to 32404858\n",
      "Data columns (total 23 columns):\n",
      " #   Column                         Dtype  \n",
      "---  ------                         -----  \n",
      " 0   order_id                       int64  \n",
      " 1   user_id                        object \n",
      " 2   order_number                   int64  \n",
      " 3   orders_day_of_week             int64  \n",
      " 4   order_hour_of_day              int64  \n",
      " 5   days_since_prior_order         float64\n",
      " 6   product_id                     int64  \n",
      " 7   add_to_cart_order              int64  \n",
      " 8   reordered                      int64  \n",
      " 9   product_name                   object \n",
      " 10  aisle_id                       int64  \n",
      " 11  department_id                  int64  \n",
      " 12  prices                         float64\n",
      " 13  price_range_loc                object \n",
      " 14  busiest_day                    object \n",
      " 15  busiest_days                   object \n",
      " 16  busiest_period_of_day          object \n",
      " 17  max_order                      int64  \n",
      " 18  loyalty_flag                   object \n",
      " 19  mean_prices                    float64\n",
      " 20  spending_flag                  object \n",
      " 21  median_days_since_prior_order  float64\n",
      " 22  order_frequency_flag           object \n",
      "dtypes: float64(4), int64(10), object(9)\n",
      "memory usage: 5.8+ GB\n"
     ]
    }
   ],
   "source": [
    "# Check to see if _merge column was dropped.\n",
    "\n",
    "ords_prods_merge.info()"
   ]
  },
  {
   "cell_type": "code",
   "execution_count": 55,
   "id": "858b72ef",
   "metadata": {},
   "outputs": [],
   "source": [
    "# Merge ords_prods_merge with customers on user_id.\n",
    "\n",
    "orders_products_all = ords_prods_merge.merge(df_customer, on=['user_id'], indicator=True)"
   ]
  },
  {
   "cell_type": "code",
   "execution_count": 56,
   "id": "186ac09b",
   "metadata": {},
   "outputs": [],
   "source": [
    "# Export merged orders_products_all dataframe to pickle file.\n",
    "\n",
    "orders_products_all.to_pickle(os.path.join(path, '02 Data', 'Prepared Data', 'orders_products_all.pkl'))"
   ]
  }
 ],
 "metadata": {
  "kernelspec": {
   "display_name": "Python 3 (ipykernel)",
   "language": "python",
   "name": "python3"
  },
  "language_info": {
   "codemirror_mode": {
    "name": "ipython",
    "version": 3
   },
   "file_extension": ".py",
   "mimetype": "text/x-python",
   "name": "python",
   "nbconvert_exporter": "python",
   "pygments_lexer": "ipython3",
   "version": "3.11.5"
  }
 },
 "nbformat": 4,
 "nbformat_minor": 5
}
